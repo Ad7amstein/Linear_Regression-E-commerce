{
 "cells": [
  {
   "cell_type": "markdown",
   "id": "dcc028af-a549-4176-9488-81604c300331",
   "metadata": {},
   "source": [
    "# Linear Regression Project: E-Commerce"
   ]
  },
  {
   "cell_type": "markdown",
   "id": "3977aac9-2298-45fd-9300-259e34ef1b3c",
   "metadata": {},
   "source": [
    "## Goals\n",
    "In this project, I will:\n",
    "- Discover the data\n",
    "- Implement a linear regression model to predict the `Yearly Abount Spent` based on some features\n",
    "- Implement a gradient descent to imporve the prediction"
   ]
  },
  {
   "cell_type": "markdown",
   "id": "34beb873-2657-41ea-bd88-71c269033e97",
   "metadata": {},
   "source": [
    "## Tools\n",
    "In this project, we will make use of:\n",
    "- pandas, a Python library used for working with data sets\n",
    "- NumPy, a popular library for scientific computing\n",
    "- seaborn, a Python data visualization library based on matplotlib\n",
    "- Matplotlib, a popular library for plotting data"
   ]
  },
  {
   "cell_type": "code",
   "execution_count": null,
   "id": "87dfc12c-a4dd-4203-8ec4-fec3424d9e02",
   "metadata": {},
   "outputs": [],
   "source": []
  }
 ],
 "metadata": {
  "kernelspec": {
   "display_name": "Python 3 (ipykernel)",
   "language": "python",
   "name": "python3"
  },
  "language_info": {
   "codemirror_mode": {
    "name": "ipython",
    "version": 3
   },
   "file_extension": ".py",
   "mimetype": "text/x-python",
   "name": "python",
   "nbconvert_exporter": "python",
   "pygments_lexer": "ipython3",
   "version": "3.11.1"
  }
 },
 "nbformat": 4,
 "nbformat_minor": 5
}
